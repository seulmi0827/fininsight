{
 "cells": [
  {
   "cell_type": "code",
   "execution_count": 4,
   "id": "893f5622",
   "metadata": {},
   "outputs": [
    {
     "name": "stdout",
     "output_type": "stream",
     "text": [
      "둘 다 1인 행:\n",
      "          word  A_value  B_value\n",
      "0     FAO산림위원회        1        1\n",
      "2         가로침식        1        1\n",
      "3           가뭄        1        1\n",
      "4         가뭄피해        1        1\n",
      "5         가속침식        1        1\n",
      "...        ...      ...      ...\n",
      "1557      환금작물        1        1\n",
      "1559    환경기초시설        1        1\n",
      "1560      환경교환        1        1\n",
      "1561      환경시장        1        1\n",
      "1564    환경영향평가        1        1\n",
      "\n",
      "[1186 rows x 3 columns]\n",
      "\n",
      "둘 다 0인 행:\n",
      "         word  A_value  B_value\n",
      "1        가로물매        0        0\n",
      "11       감수분열        0        0\n",
      "14     강수효과지수        0        0\n",
      "16     개략토양조사        0        0\n",
      "18     개체군생태학        0        0\n",
      "...       ...      ...      ...\n",
      "1309      직업병        0        0\n",
      "1325      착색료        0        0\n",
      "1450      한대림        0        0\n",
      "1505      햄버거        0        0\n",
      "1529  햄버거 커넥션        0        0\n",
      "\n",
      "[103 rows x 3 columns]\n",
      "\n",
      "하나는 1, 하나는 0인 행:\n",
      "               word  A_value  B_value\n",
      "6             간대성토양        0        1\n",
      "7              간대토양        0        1\n",
      "15             강수효율        0        1\n",
      "17         개발지수(임도)        0        1\n",
      "25             건조지수        0        1\n",
      "...             ...      ...      ...\n",
      "1542           히로시마        1        0\n",
      "1553  환경의 날·세계환경의 날        1        0\n",
      "1558         후 염소처리        1        0\n",
      "1562            휴양림        1        0\n",
      "1563       환경라벨링 규격        1        0\n",
      "\n",
      "[276 rows x 3 columns]\n"
     ]
    }
   ],
   "source": [
    "import pandas as pd\n",
    "\n",
    "# 파일 경로를 지정하세요\n",
    "file_a = '환경_비교A_중복제거.xlsx'\n",
    "file_b = '환경_비교B_중복제거.xlsx'\n",
    "\n",
    "# 파일 읽기 (첫 번째 컬럼: 단어, 두 번째 컬럼: 값)\n",
    "df_a = pd.read_excel(file_a, header=None, names=['word', 'A_value', 'etc'])\n",
    "df_b = pd.read_excel(file_b, header=None, names=['word', 'B_value', 'etc'])\n",
    "\n",
    "# 필요한 컬럼만 선택\n",
    "df_a = df_a[['word', 'A_value']]\n",
    "df_b = df_b[['word', 'B_value']]\n",
    "\n",
    "# 값이 숫자가 아닌 경우를 위해 int로 변환 (에러시 NaN)\n",
    "df_a['A_value'] = pd.to_numeric(df_a['A_value'], errors='coerce')\n",
    "df_b['B_value'] = pd.to_numeric(df_b['B_value'], errors='coerce')\n",
    "\n",
    "# 단어 기준으로 merge\n",
    "df = pd.merge(df_a, df_b, on='word', how='inner')\n",
    "\n",
    "# 둘 다 1인 행\n",
    "both_1 = df[(df['A_value'] == 1) & (df['B_value'] == 1)]\n",
    "\n",
    "# 둘 다 0인 행\n",
    "both_0 = df[(df['A_value'] == 0) & (df['B_value'] == 0)]\n",
    "\n",
    "# 하나는 1, 하나는 0인 행\n",
    "diff_01 = df[((df['A_value'] == 1) & (df['B_value'] == 0)) | ((df['A_value'] == 0) & (df['B_value'] == 1))]\n",
    "\n",
    "# 결과 확인\n",
    "print(\"둘 다 1인 행:\")\n",
    "print(both_1)\n",
    "\n",
    "print(\"\\n둘 다 0인 행:\")\n",
    "print(both_0)\n",
    "\n",
    "print(\"\\n하나는 1, 하나는 0인 행:\")\n",
    "print(diff_01)\n"
   ]
  },
  {
   "cell_type": "code",
   "execution_count": 9,
   "id": "f95d12c3",
   "metadata": {},
   "outputs": [],
   "source": [
    "diff_01\n",
    "diff_01.to_excel('diff_01.xlsx', index=False)"
   ]
  },
  {
   "cell_type": "code",
   "execution_count": 11,
   "id": "902fa503",
   "metadata": {},
   "outputs": [],
   "source": [
    "both_1\n",
    "both_1.to_excel('both_1.xlsx', index=False)"
   ]
  },
  {
   "cell_type": "code",
   "execution_count": 10,
   "id": "5b11da21",
   "metadata": {},
   "outputs": [],
   "source": [
    "both_0\n",
    "both_0.to_excel('both_0.xlsx', index=False)"
   ]
  }
 ],
 "metadata": {
  "kernelspec": {
   "display_name": "study2",
   "language": "python",
   "name": "python3"
  },
  "language_info": {
   "codemirror_mode": {
    "name": "ipython",
    "version": 3
   },
   "file_extension": ".py",
   "mimetype": "text/x-python",
   "name": "python",
   "nbconvert_exporter": "python",
   "pygments_lexer": "ipython3",
   "version": "3.12.7"
  }
 },
 "nbformat": 4,
 "nbformat_minor": 5
}
