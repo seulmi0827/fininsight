{
 "cells": [
  {
   "cell_type": "code",
   "execution_count": 1,
   "id": "06b0af03",
   "metadata": {},
   "outputs": [],
   "source": [
    "import pandas as pd"
   ]
  },
  {
   "cell_type": "code",
   "execution_count": 4,
   "id": "6f528fd6",
   "metadata": {},
   "outputs": [
    {
     "data": {
      "text/html": [
       "<div>\n",
       "<style scoped>\n",
       "    .dataframe tbody tr th:only-of-type {\n",
       "        vertical-align: middle;\n",
       "    }\n",
       "\n",
       "    .dataframe tbody tr th {\n",
       "        vertical-align: top;\n",
       "    }\n",
       "\n",
       "    .dataframe thead th {\n",
       "        text-align: right;\n",
       "    }\n",
       "</style>\n",
       "<table border=\"1\" class=\"dataframe\">\n",
       "  <thead>\n",
       "    <tr style=\"text-align: right;\">\n",
       "      <th></th>\n",
       "      <th>extracted_keywords</th>\n",
       "    </tr>\n",
       "  </thead>\n",
       "  <tbody>\n",
       "    <tr>\n",
       "      <th>0</th>\n",
       "      <td>['국내온라인판매', '온라인판매강화', '판매강화제품군', '강화제품군확대', '...</td>\n",
       "    </tr>\n",
       "    <tr>\n",
       "      <th>1</th>\n",
       "      <td>['삼성태블릿신제품', '태블릿신제품갤럭시', '신제품갤럭시탭', '시리즈’출시',...</td>\n",
       "    </tr>\n",
       "    <tr>\n",
       "      <th>2</th>\n",
       "      <td>['美상호관세', '상호관세폭탄', '관세폭탄숨통', '숨통튼韓', '韓반도체불확실...</td>\n",
       "    </tr>\n",
       "    <tr>\n",
       "      <th>3</th>\n",
       "      <td>['트럼프관세쇼크', '쇼크에韓', '韓전자업계', '전자업계초긴장', '업계초긴장...</td>\n",
       "    </tr>\n",
       "    <tr>\n",
       "      <th>4</th>\n",
       "      <td>['베트남46삼성', '삼성·LG전자', 'LG전자해외공장', '외공장도고민', '...</td>\n",
       "    </tr>\n",
       "    <tr>\n",
       "      <th>5</th>\n",
       "      <td>['삼성전자TV넷플릭스', '기술적용', '적용삼성전자TV', '선명한화질', '화...</td>\n",
       "    </tr>\n",
       "    <tr>\n",
       "      <th>6</th>\n",
       "      <td>['TV로넷플릭스', '선명한이유', '이유콘텐츠', '적용삼성전자TV', 'TV와...</td>\n",
       "    </tr>\n",
       "    <tr>\n",
       "      <th>7</th>\n",
       "      <td>['이재용삼성전자', '삼성전자회장광폭', '회장광폭행보', '광폭행보중국', '최...</td>\n",
       "    </tr>\n",
       "    <tr>\n",
       "      <th>8</th>\n",
       "      <td>['삼성태블릿신제품', '태블릿신제품갤럭시', '신제품갤럭시탭', '시리즈오늘국내'...</td>\n",
       "    </tr>\n",
       "    <tr>\n",
       "      <th>9</th>\n",
       "      <td>['삼성전자갤럭시탭', '시리즈출시', '69만', '삼성전자가태블릿', '태블릿신...</td>\n",
       "    </tr>\n",
       "  </tbody>\n",
       "</table>\n",
       "</div>"
      ],
      "text/plain": [
       "                                  extracted_keywords\n",
       "0  ['국내온라인판매', '온라인판매강화', '판매강화제품군', '강화제품군확대', '...\n",
       "1  ['삼성태블릿신제품', '태블릿신제품갤럭시', '신제품갤럭시탭', '시리즈’출시',...\n",
       "2  ['美상호관세', '상호관세폭탄', '관세폭탄숨통', '숨통튼韓', '韓반도체불확실...\n",
       "3  ['트럼프관세쇼크', '쇼크에韓', '韓전자업계', '전자업계초긴장', '업계초긴장...\n",
       "4  ['베트남46삼성', '삼성·LG전자', 'LG전자해외공장', '외공장도고민', '...\n",
       "5  ['삼성전자TV넷플릭스', '기술적용', '적용삼성전자TV', '선명한화질', '화...\n",
       "6  ['TV로넷플릭스', '선명한이유', '이유콘텐츠', '적용삼성전자TV', 'TV와...\n",
       "7  ['이재용삼성전자', '삼성전자회장광폭', '회장광폭행보', '광폭행보중국', '최...\n",
       "8  ['삼성태블릿신제품', '태블릿신제품갤럭시', '신제품갤럭시탭', '시리즈오늘국내'...\n",
       "9  ['삼성전자갤럭시탭', '시리즈출시', '69만', '삼성전자가태블릿', '태블릿신..."
      ]
     },
     "execution_count": 4,
     "metadata": {},
     "output_type": "execute_result"
    }
   ],
   "source": [
    "file_path = r'C:\\Users\\이현승\\핀인사이트 시정 분석 프로젝트\\data_extracted_keywords_top10.csv'\n",
    "data = pd.read_csv(file_path)\n",
    "data"
   ]
  },
  {
   "cell_type": "code",
   "execution_count": null,
   "id": "b41f419b",
   "metadata": {},
   "outputs": [
    {
     "name": "stdout",
     "output_type": "stream",
     "text": [
      "Aspect 추출 완료! 결과 파일: aspect_results.csv\n"
     ]
    }
   ],
   "source": [
    "import pandas as pd\n",
    "import ast  \n",
    "import re\n",
    "\n",
    "def safe_literal_eval(s):\n",
    "    \"\"\"CSV의 문자열 형식 리스트를 안전하게 변환\"\"\"\n",
    "    try:\n",
    "        s = str(s).strip()              # 외부 대괄호 및 공백 제거       \n",
    "        s = re.sub(r\"^\\[|\\]$\", \"\", s)   # 내부 작은따옴표 -> 큰따옴표 통일      \n",
    "        s = re.sub(r\"'\", '\"', s)        # 빈 문자열 처리\n",
    "        if not s: return []\n",
    "        return ast.literal_eval(f'[{s}]')   # 문자열을 Python 객체로 변환.\n",
    "    except:\n",
    "        return []\n",
    "\n",
    "def extract_aspects(keywords):\n",
    "    \"\"\"복합 명사를 분리하여 Aspect 추출\"\"\"\n",
    "    aspects = []\n",
    "    for keyword in keywords:\n",
    "        # 2~4글자 단위로 분할 (예: '국내온라인판매' -> ['국내', '온라인', '판매'])\n",
    "        for length in [4, 3, 2]:  # 긴 단어 우선 추출\n",
    "            for i in range(len(keyword) - length + 1):\n",
    "                aspect_candidate = keyword[i:i+length]\n",
    "                # 의미 있는 단어 필터링\n",
    "                if any(sub in aspect_candidate for sub in ['전자', '판매', '관세', '제품']):\n",
    "                    aspects.append(aspect_candidate)\n",
    "    return list(set(aspects))  # 중복 제거\n",
    "\n",
    "# CSV 파일 로드 및 전처리\n",
    "data = pd.read_csv(\"data_extracted_keywords_top10.csv\")\n",
    "data[\"extracted_keywords\"] = data[\"extracted_keywords\"].apply(safe_literal_eval)\n",
    "\n",
    "# Aspect 추출 실행\n",
    "data[\"aspects\"] = data[\"extracted_keywords\"].apply(extract_aspects)\n",
    "\n",
    "# 결과 저장\n",
    "data.to_csv(\"aspect_results.csv\", index=False)\n",
    "print(\"Aspect 추출 완료! 결과 파일: aspect_results.csv\")\n",
    "\n"
   ]
  },
  {
   "cell_type": "code",
   "execution_count": 24,
   "id": "2c6b8ee2",
   "metadata": {},
   "outputs": [
    {
     "name": "stdout",
     "output_type": "stream",
     "text": [
      "WARNING:tensorflow:From C:\\Users\\이현승\\AppData\\Roaming\\Python\\Python312\\site-packages\\tf_keras\\src\\losses.py:2976: The name tf.losses.sparse_softmax_cross_entropy is deprecated. Please use tf.compat.v1.losses.sparse_softmax_cross_entropy instead.\n",
      "\n"
     ]
    },
    {
     "name": "stderr",
     "output_type": "stream",
     "text": [
      "Device set to use cpu\n"
     ]
    },
    {
     "name": "stdout",
     "output_type": "stream",
     "text": [
      "ABSA 결과가 'final_absa_results.csv'에 저장되었습니다.\n"
     ]
    }
   ],
   "source": [
    "import pandas as pd\n",
    "from transformers import pipeline\n",
    "\n",
    "# CSV 파일 로드 (Aspect 추출 완료된 파일)\n",
    "data = pd.read_csv(\"aspect_results.csv\")  # 이전 단계에서 저장한 파일\n",
    "\n",
    "# Hugging Face의 한국어 감성 분석 모델 초기화\n",
    "sentiment_analyzer = pipeline(\n",
    "    \"text-classification\",\n",
    "    model=\"snunlp/KR-FinBert-SC\",  # 한국어 감성 분석 모델\n",
    "    tokenizer=\"snunlp/KR-FinBert-SC\"\n",
    ")\n",
    "\n",
    "def perform_absa(aspects):\n",
    "    \"\"\"\n",
    "    각 Aspect에 대해 감성 분석 수행.\n",
    "    :param aspects: Aspect 리스트 (예: ['배터리', '디스플레이'])\n",
    "    :return: [(Aspect, Sentiment)] 형태의 리스트\n",
    "    \"\"\"\n",
    "    results = []\n",
    "    for aspect in aspects:\n",
    "        try:\n",
    "            sentiment = sentiment_analyzer(aspect)[0]['label']  # 감성 분석 수행\n",
    "            results.append((aspect, sentiment))\n",
    "        except Exception as e:\n",
    "            print(f\"Error analyzing sentiment for aspect '{aspect}': {e}\")\n",
    "            continue\n",
    "    return results\n",
    "\n",
    "# ABSA 실행: 각 행의 'aspects' 열에 대해 감성 분석 수행\n",
    "data[\"absa_results\"] = data[\"aspects\"].apply(\n",
    "    lambda x: perform_absa(eval(x)) if isinstance(x, str) else []\n",
    ")\n",
    "\n",
    "# 결과 저장\n",
    "output_file = \"final_absa_results.csv\"\n",
    "data.to_csv(output_file, index=False)\n",
    "print(f\"ABSA 결과가 '{output_file}'에 저장되었습니다.\")\n"
   ]
  },
  {
   "cell_type": "code",
   "execution_count": 36,
   "id": "b7e15775",
   "metadata": {},
   "outputs": [
    {
     "data": {
      "text/html": [
       "<style type=\"text/css\">\n",
       "#T_5d742_row0_col0, #T_5d742_row1_col0, #T_5d742_row2_col0, #T_5d742_row3_col0, #T_5d742_row4_col0, #T_5d742_row5_col0, #T_5d742_row6_col0, #T_5d742_row7_col0, #T_5d742_row8_col0, #T_5d742_row9_col0 {\n",
       "  text-align: left;\n",
       "}\n",
       "</style>\n",
       "<table id=\"T_5d742\">\n",
       "  <thead>\n",
       "    <tr>\n",
       "      <th class=\"blank level0\" >&nbsp;</th>\n",
       "      <th id=\"T_5d742_level0_col0\" class=\"col_heading level0 col0\" >absa_results</th>\n",
       "    </tr>\n",
       "  </thead>\n",
       "  <tbody>\n",
       "    <tr>\n",
       "      <th id=\"T_5d742_level0_row0\" class=\"row_heading level0 row0\" >0</th>\n",
       "      <td id=\"T_5d742_row0_col0\" class=\"data row0 col0\" >[('국내전자', 'neutral'), ('매제품군', 'neutral'), ('제품및시', 'neutral'), ('제품및', 'neutral'), ('폼판매', 'neutral'), ('매제품', 'neutral'), ('TV제품', 'neutral'), ('전자와', 'neutral'), ('판매강', 'neutral'), ('판매에', 'neutral'), ('와전자', 'neutral'), ('제품도', 'neutral'), ('인판매처', 'neutral'), ('삼성전자', 'positive'), ('G전자', 'neutral'), ('제품은', 'neutral'), ('전자상거', 'positive'), ('강화제품', 'neutral'), ('판매전략', 'neutral'), ('제품을비', 'neutral'), ('전자랜', 'neutral'), ('해판매', 'neutral'), ('해판매제', 'neutral'), ('화제품군', 'neutral'), ('화제품', 'neutral'), ('제품으', 'neutral'), ('전제품을', 'neutral'), ('제품은T', 'neutral'), ('트와전자', 'neutral'), ('판매제', 'neutral'), ('라인판매', 'positive'), ('성전자와', 'negative'), ('판매에집', 'neutral'), ('내전자', 'neutral'), ('제품을', 'neutral'), ('전제품도', 'positive'), ('을판매', 'neutral'), ('쟁제품', 'neutral'), ('판매강화', 'neutral'), ('판매실적', 'neutral'), ('제품도취', 'neutral'), ('판매', 'neutral'), ('할전자', 'neutral'), ('랫폼판매', 'neutral'), ('제품군', 'neutral'), ('전제품', 'neutral'), ('할전자상', 'neutral'), ('인판매', 'neutral'), ('제품으로', 'neutral'), ('인판매강', 'neutral'), ('판매처', 'neutral'), ('판매제품', 'neutral'), ('판매실', 'neutral'), ('제품군확', 'neutral'), ('제품군을', 'neutral'), ('판매와관', 'neutral'), ('올해판매', 'neutral'), ('가전제품', 'neutral'), ('내전자상', 'positive'), ('경쟁제품', 'neutral'), ('전자와L', 'neutral'), ('LG전자', 'positive'), ('판매전', 'neutral'), ('성전자', 'negative'), ('전자', 'neutral'), ('제품', 'neutral'), ('인판매전', 'neutral'), ('전자랜드', 'neutral'), ('품을판매', 'neutral'), ('V제품', 'neutral'), ('전자상', 'positive'), ('제품을판', 'neutral'), ('무할전자', 'neutral'), ('판매와', 'neutral')]</td>\n",
       "    </tr>\n",
       "    <tr>\n",
       "      <th id=\"T_5d742_level0_row1\" class=\"row_heading level0 row1\" >1</th>\n",
       "      <td id=\"T_5d742_row1_col0\" class=\"data row1 col0\" >[('신제품', 'positive'), ('별도판매', 'neutral'), ('제품매', 'neutral'), ('와전자', 'neutral'), ('성전자가', 'negative'), ('삼성전자', 'positive'), ('신제품갤', 'positive'), ('제품갤', 'neutral'), ('전자가중', 'neutral'), ('도판매', 'neutral'), ('전자제', 'neutral'), ('어와전자', 'neutral'), ('판매', 'neutral'), ('릿신제품', 'neutral'), ('제품매장', 'neutral'), ('자제품매', 'neutral'), ('성전자', 'negative'), ('자제품', 'neutral'), ('전자', 'neutral'), ('제품', 'neutral'), ('전자가', 'neutral'), ('제품갤럭', 'neutral'), ('전자제품', 'positive')]</td>\n",
       "    </tr>\n",
       "    <tr>\n",
       "      <th id=\"T_5d742_level0_row2\" class=\"row_heading level0 row2\" >2</th>\n",
       "      <td id=\"T_5d742_row2_col0\" class=\"data row2 col0\" >[('편관세', 'neutral'), ('호관세미', 'neutral'), ('목별관세', 'neutral'), ('관세에각', 'negative'), ('관세와', 'neutral'), ('관세이', 'neutral'), ('관세를', 'neutral'), ('비관세', 'neutral'), ('별관세율', 'neutral'), ('관세제외', 'neutral'), ('별관세', 'neutral'), ('관세가부', 'neutral'), ('삼성전자', 'positive'), ('관세문제', 'neutral'), ('기본관세', 'neutral'), ('관세발표', 'neutral'), ('호관세', 'positive'), ('관세율', 'neutral'), ('관세미적', 'negative'), ('관세를추', 'negative'), ('관세폭', 'negative'), ('국산제품', 'neutral'), ('관세가', 'neutral'), ('관세제', 'neutral'), ('보편관세', 'neutral'), ('호관세부', 'neutral'), ('편관세체', 'neutral'), ('산제품', 'neutral'), ('성전자와', 'negative'), ('관세폭탄', 'negative'), ('관세체계', 'neutral'), ('체에관세', 'neutral'), ('본관세', 'neutral'), ('전자와S', 'neutral'), ('관세를계', 'neutral'), ('관세를적', 'negative'), ('관세율은', 'neutral'), ('관세', 'neutral'), ('관세적', 'negative'), ('호관세제', 'neutral'), ('관세미', 'neutral'), ('관세에', 'negative'), ('호관세이', 'neutral'), ('관세적용', 'negative'), ('수에관세', 'neutral'), ('호관세폭', 'positive'), ('업별관세', 'neutral'), ('상호관세', 'neutral'), ('비관세장', 'neutral'), ('에관세', 'neutral'), ('관세체', 'neutral'), ('관세부과', 'negative'), ('관세를부', 'negative'), ('개별관세', 'neutral'), ('관세장벽', 'neutral'), ('성전자', 'negative'), ('관세부', 'neutral'), ('호관세발', 'neutral'), ('호관세적', 'positive'), ('관세발', 'negative'), ('전자', 'neutral'), ('제품', 'neutral'), ('관세와보', 'neutral'), ('종비관세', 'neutral'), ('관세이후', 'neutral'), ('가별관세', 'neutral'), ('관세문', 'neutral'), ('전자와', 'neutral'), ('관세장', 'neutral')]</td>\n",
       "    </tr>\n",
       "    <tr>\n",
       "      <th id=\"T_5d742_level0_row3\" class=\"row_heading level0 row3\" >3</th>\n",
       "      <td id=\"T_5d742_row3_col0\" class=\"data row3 col0\" >[('G전자', 'neutral'), ('전자의경', 'neutral'), ('관세를', 'neutral'), ('관세를발', 'negative'), ('전자기업', 'neutral'), ('관세율', 'neutral'), ('럼프관세', 'neutral'), ('관세영향', 'neutral'), ('전자산업', 'neutral'), ('전자는', 'neutral'), ('체관세', 'neutral'), ('G전자의', 'positive'), ('제품군', 'neutral'), ('전자의', 'neutral'), ('전자는전', 'neutral'), ('전자00', 'neutral'), ('관세쇼크', 'negative'), ('상호관세', 'neutral'), ('의전자', 'neutral'), ('전자', 'neutral'), ('한관세', 'neutral'), ('전자0', 'neutral'), ('전자와', 'neutral'), ('韓전자', 'neutral'), ('프관세', 'neutral'), ('전략제품', 'neutral'), ('대한관세', 'neutral'), ('별관세', 'neutral'), ('관세미적', 'negative'), ('관세시행', 'neutral'), ('내전자', 'neutral'), ('략제품', 'neutral'), ('관세율은', 'neutral'), ('관세', 'neutral'), ('미국제품', 'neutral'), ('제품에막', 'neutral'), ('성전자는', 'positive'), ('관세부과', 'negative'), ('전자LG', 'positive'), ('호관세율', 'neutral'), ('요전자', 'neutral'), ('韓전자업', 'neutral'), ('프관세쇼', 'neutral'), ('주요전자', 'neutral'), ('제품군까', 'neutral'), ('성전자0', 'neutral'), ('관세정', 'neutral'), ('내전자기', 'positive'), ('관세시', 'neutral'), ('제품에', 'neutral'), ('전자는구', 'neutral'), ('호관세정', 'neutral'), ('전자산', 'neutral'), ('관세미', 'neutral'), ('전자업', 'neutral'), ('전자계열', 'neutral'), ('전자L', 'neutral'), ('관세를부', 'negative'), ('관세정책', 'neutral'), ('성전자', 'negative'), ('요전자기', 'neutral'), ('관세부', 'neutral'), ('제품', 'neutral'), ('국내전자', 'neutral'), ('호관세미', 'neutral'), ('에서판매', 'neutral'), ('목별관세', 'neutral'), ('삼성전자', 'positive'), ('G전자L', 'neutral'), ('호관세', 'positive'), ('까지관세', 'neutral'), ('관세쇼', 'neutral'), ('관세영', 'neutral'), ('성전자와', 'negative'), ('전자계', 'neutral'), ('전자와S', 'neutral'), ('전자업계', 'negative'), ('룹의전자', 'neutral'), ('판매', 'neutral'), ('국제품', 'neutral'), ('전자기', 'negative'), ('서판매', 'neutral'), ('LG전자', 'positive'), ('도체관세', 'neutral'), ('지관세', 'neutral')]</td>\n",
       "    </tr>\n",
       "    <tr>\n",
       "      <th id=\"T_5d742_level0_row4\" class=\"row_heading level0 row4\" >4</th>\n",
       "      <td id=\"T_5d742_row4_col0\" class=\"data row4 col0\" >[('전자가미', 'neutral'), ('G전자해', 'negative'), ('G전자', 'neutral'), ('성전자L', 'positive'), ('관세대', 'neutral'), ('관세조', 'neutral'), ('전자해외', 'neutral'), ('프관세', 'neutral'), ('전자는이', 'neutral'), ('관세를', 'neutral'), ('이번관세', 'neutral'), ('삼성전자', 'positive'), ('별관세율', 'neutral'), ('관세가부', 'neutral'), ('별관세', 'neutral'), ('관세를발', 'negative'), ('관세대상', 'neutral'), ('관세발표', 'neutral'), ('호관세', 'positive'), ('관세율', 'neutral'), ('제품상당', 'positive'), ('관세율이', 'neutral'), ('럼프관세', 'neutral'), ('관세도', 'neutral'), ('관세가', 'neutral'), ('전자가가', 'neutral'), ('G전자가', 'negative'), ('번관세발', 'neutral'), ('관세조치', 'negative'), ('성전자와', 'negative'), ('제품의멕', 'neutral'), ('전자는', 'neutral'), ('관세', 'neutral'), ('G전자의', 'positive'), ('번관세', 'neutral'), ('제품상', 'positive'), ('전자의생', 'neutral'), ('전자의', 'neutral'), ('전자는전', 'neutral'), ('G전자도', 'negative'), ('전자도멕', 'positive'), ('전자도고', 'neutral'), ('호관세대', 'neutral'), ('관세도널', 'negative'), ('전자도', 'negative'), ('상호관세', 'neutral'), ('전자L', 'neutral'), ('전자가공', 'neutral'), ('관세부과', 'negative'), ('LG전자', 'positive'), ('관세를부', 'negative'), ('전자와L', 'neutral'), ('성전자', 'negative'), ('전자LG', 'positive'), ('관세발', 'negative'), ('관세부', 'neutral'), ('전자', 'neutral'), ('제품', 'neutral'), ('전자가', 'neutral'), ('전자해', 'neutral'), ('호관세율', 'neutral'), ('제품의', 'neutral'), ('가별관세', 'neutral'), ('전자와', 'neutral'), ('G전자는', 'positive')]</td>\n",
       "    </tr>\n",
       "    <tr>\n",
       "      <th id=\"T_5d742_level0_row5\" class=\"row_heading level0 row5\" >5</th>\n",
       "      <td id=\"T_5d742_row5_col0\" class=\"data row5 col0\" >[('전자영상', 'neutral'), ('전자영', 'neutral'), ('전자는', 'neutral'), ('전자TV', 'neutral'), ('성전자', 'negative'), ('성전자가', 'negative'), ('전자', 'neutral'), ('전자가주', 'negative'), ('삼성전자', 'positive'), ('전자T', 'neutral'), ('전자가', 'neutral'), ('성전자영', 'neutral'), ('성전자T', 'negative'), ('성전자는', 'positive'), ('전자는기', 'neutral')]</td>\n",
       "    </tr>\n",
       "    <tr>\n",
       "      <th id=\"T_5d742_level0_row6\" class=\"row_heading level0 row6\" >6</th>\n",
       "      <td id=\"T_5d742_row6_col0\" class=\"data row6 col0\" >[('전자영상', 'neutral'), ('전자영', 'neutral'), ('전자가넷', 'neutral'), ('전자는', 'neutral'), ('전자TV', 'neutral'), ('성전자', 'negative'), ('성전자가', 'negative'), ('전자', 'neutral'), ('전자가주', 'negative'), ('삼성전자', 'positive'), ('전자T', 'neutral'), ('전자가', 'neutral'), ('성전자영', 'neutral'), ('성전자T', 'negative'), ('성전자는', 'positive'), ('전자는기', 'neutral')]</td>\n",
       "    </tr>\n",
       "    <tr>\n",
       "      <th id=\"T_5d742_level0_row7\" class=\"row_heading level0 row7\" >7</th>\n",
       "      <td id=\"T_5d742_row7_col0\" class=\"data row7 col0\" >[('성전자', 'negative'), ('전자회', 'neutral'), ('전자', 'neutral'), ('삼성전자', 'positive'), ('성전자회', 'neutral'), ('전자회장', 'neutral')]</td>\n",
       "    </tr>\n",
       "    <tr>\n",
       "      <th id=\"T_5d742_level0_row8\" class=\"row_heading level0 row8\" >8</th>\n",
       "      <td id=\"T_5d742_row8_col0\" class=\"data row8 col0\" >[('신제품', 'positive'), ('별도판매', 'neutral'), ('제품매', 'neutral'), ('와전자', 'neutral'), ('성전자가', 'negative'), ('삼성전자', 'positive'), ('전자가태', 'neutral'), ('신제품갤', 'positive'), ('제품갤', 'neutral'), ('도판매', 'neutral'), ('전자제', 'neutral'), ('어와전자', 'neutral'), ('판매', 'neutral'), ('릿신제품', 'neutral'), ('제품매장', 'neutral'), ('자제품매', 'neutral'), ('성전자', 'negative'), ('자제품', 'neutral'), ('전자', 'neutral'), ('제품', 'neutral'), ('전자가', 'neutral'), ('제품갤럭', 'neutral'), ('전자제품', 'positive')]</td>\n",
       "    </tr>\n",
       "    <tr>\n",
       "      <th id=\"T_5d742_level0_row9\" class=\"row_heading level0 row9\" >9</th>\n",
       "      <td id=\"T_5d742_row9_col0\" class=\"data row9 col0\" >[('신제품', 'positive'), ('별도판매', 'neutral'), ('제품매', 'neutral'), ('번신제품', 'neutral'), ('와전자', 'neutral'), ('성전자가', 'negative'), ('신제품은', 'positive'), ('삼성전자', 'positive'), ('전자는출', 'negative'), ('제품은', 'neutral'), ('제품구', 'neutral'), ('제품을휴', 'neutral'), ('전자는갤', 'negative'), ('전자가태', 'neutral'), ('제품은슬', 'neutral'), ('신제품갤', 'positive'), ('전자는', 'neutral'), ('제품갤', 'neutral'), ('제품을', 'neutral'), ('전자갤럭', 'neutral'), ('전자갤', 'neutral'), ('판매한', 'neutral'), ('도판매', 'neutral'), ('전자제', 'neutral'), ('어와전자', 'neutral'), ('판매', 'neutral'), ('릿신제품', 'neutral'), ('제품매장', 'neutral'), ('블제품구', 'neutral'), ('성전자는', 'positive'), ('블제품', 'neutral'), ('자제품매', 'neutral'), ('성전자', 'negative'), ('자제품', 'neutral'), ('성전자갤', 'negative'), ('판매한다', 'neutral'), ('전자', 'neutral'), ('제품', 'neutral'), ('전자가', 'neutral'), ('러블제품', 'neutral'), ('제품갤럭', 'neutral'), ('전자제품', 'positive'), ('제품구매', 'neutral')]</td>\n",
       "    </tr>\n",
       "  </tbody>\n",
       "</table>\n"
      ],
      "text/plain": [
       "<pandas.io.formats.style.Styler at 0x1bb426b68a0>"
      ]
     },
     "execution_count": 36,
     "metadata": {},
     "output_type": "execute_result"
    }
   ],
   "source": [
    "file_path = \"final_absa_results.csv\"\n",
    "df = pd.read_csv(file_path)\n",
    "\n",
    "# 출력 옵션 설정 (생략 없이 표시)\n",
    "pd.set_option('display.max_colwidth', None)\n",
    "\n",
    "# 'absa_results' 컬럼만 선택하여 왼쪽 정렬 스타일 적용\n",
    "styled_df = df[['absa_results']].style.set_properties(**{'text-align': 'left'})\n",
    "\n",
    "styled_df\n",
    "\n"
   ]
  },
  {
   "cell_type": "code",
   "execution_count": null,
   "id": "f4d09f92",
   "metadata": {},
   "outputs": [],
   "source": []
  }
 ],
 "metadata": {
  "kernelspec": {
   "display_name": "Python 3",
   "language": "python",
   "name": "python3"
  },
  "language_info": {
   "codemirror_mode": {
    "name": "ipython",
    "version": 3
   },
   "file_extension": ".py",
   "mimetype": "text/x-python",
   "name": "python",
   "nbconvert_exporter": "python",
   "pygments_lexer": "ipython3",
   "version": "3.12.7"
  }
 },
 "nbformat": 4,
 "nbformat_minor": 5
}
