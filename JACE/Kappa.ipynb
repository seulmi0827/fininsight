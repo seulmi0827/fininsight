{
  "nbformat": 4,
  "nbformat_minor": 0,
  "metadata": {
    "colab": {
      "provenance": [],
      "authorship_tag": "ABX9TyPP7qq18ShCI6cf10YeDfjN",
      "include_colab_link": true
    },
    "kernelspec": {
      "name": "python3",
      "display_name": "Python 3"
    },
    "language_info": {
      "name": "python"
    }
  },
  "cells": [
    {
      "cell_type": "markdown",
      "metadata": {
        "id": "view-in-github",
        "colab_type": "text"
      },
      "source": [
        "<a href=\"https://colab.research.google.com/github/seulmi0827/fininsight/blob/main/JACE/Kappa.ipynb\" target=\"_parent\"><img src=\"https://colab.research.google.com/assets/colab-badge.svg\" alt=\"Open In Colab\"/></a>"
      ]
    },
    {
      "cell_type": "code",
      "source": [
        "from google.colab import drive\n",
        "drive.mount('/content/drive')"
      ],
      "metadata": {
        "id": "39MY8nHjhieF",
        "colab": {
          "base_uri": "https://localhost:8080/"
        },
        "outputId": "da6ab5c7-9cc7-459a-e05b-0424eda565df"
      },
      "execution_count": 1,
      "outputs": [
        {
          "output_type": "stream",
          "name": "stdout",
          "text": [
            "Mounted at /content/drive\n"
          ]
        }
      ]
    },
    {
      "cell_type": "markdown",
      "source": [
        "출력값에 대한 설명입니다:\n",
        "\n",
        "Cohen's Kappa: 0.8603\n",
        "\n",
        "두 평가자 간의 일치도가 우연 요소를 제외하고 86.03%라는 의미입니다.\n",
        "0.81-1.00 범위에 있어 '거의 완벽한(almost perfect)' 일치도를 나타냅니다.\n",
        "\n",
        "\n",
        "관찰된 일치도: 0.9655\n",
        "\n",
        "두 평가자가 실제로 96.55%의 케이스에서 같은 판단을 내렸습니다.\n",
        "\n",
        "\n",
        "고유 값: [0. 1.]\n",
        "\n",
        "두 평가자가 사용한 값은 0과 1뿐입니다(이진분류).\n",
        "\n",
        "\n",
        "값 0.0: 평가자1 비율 0.1379, 평가자2 비율 0.1502\n",
        "\n",
        "평가자1은 전체 중 13.79%를 0으로 분류했습니다.\n",
        "평가자2는 전체 중 15.02%를 0으로 분류했습니다.\n",
        "\n",
        "\n",
        "값 1.0: 평가자1 비율 0.8621, 평가자2 비율 0.8498\n",
        "\n",
        "평가자1은 전체 중 86.21%를 1로 분류했습니다.\n",
        "평가자2는 전체 중 84.98%를 1로 분류했습니다.\n",
        "\n",
        "\n",
        "우연에 의한 일치도: 0.7533\n",
        "\n",
        "두 평가자가 무작위로 판단했을 때 우연히 일치할 확률이 75.33%입니다.\n",
        "계산: (0.1379×0.1502) + (0.8621×0.8498) = 0.7533\n",
        "\n",
        "\n",
        "직접 계산한 Kappa: 0.8603\n",
        "\n",
        "공식으로 직접 계산한 kappa 값으로 scikit-learn 결과와 일치합니다.\n",
        "계산: (0.9655-0.7533)/(1-0.7533) = 0.8603\n",
        "\n",
        "\n",
        "\n",
        "결론적으로, 두 평가자는 우연의 일치를 고려하더라도 매우 높은 수준의 일치도(0.8603)를 보여주고 있습니다."
      ],
      "metadata": {
        "id": "zJCx1RNKoVCm"
      }
    },
    {
      "cell_type": "markdown",
      "source": [
        "# CSV"
      ],
      "metadata": {
        "id": "IafV2v3VS1JH"
      }
    },
    {
      "cell_type": "code",
      "source": [
        "from sklearn.metrics import cohen_kappa_score\n",
        "import pandas as pd\n",
        "import numpy as np\n",
        "\n",
        "def calculate_kappa_statistics(rater1_clean, rater2_clean):\n",
        "    \"\"\"\n",
        "    두 평가자 간의 코헨 카파 및 관련 통계를 계산합니다.\n",
        "\n",
        "    Args:\n",
        "        rater1_clean (Series): 첫 번째 평가자 데이터\n",
        "        rater2_clean (Series): 두 번째 평가자 데이터\n",
        "\n",
        "    Returns:\n",
        "        dict: 계산된 통계 결과\n",
        "    \"\"\"\n",
        "    # Cohen's kappa 계산\n",
        "    kappa = cohen_kappa_score(rater1_clean, rater2_clean)\n",
        "\n",
        "    # 관찰된 일치도 계산\n",
        "    observed_agreement = sum(r1 == r2 for r1, r2 in zip(rater1_clean, rater2_clean)) / len(rater1_clean)\n",
        "\n",
        "    # 고유 값 확인\n",
        "    unique_values = np.unique(np.concatenate([rater1_clean.unique(), rater2_clean.unique()]))\n",
        "\n",
        "    # 각 값의 비율 계산\n",
        "    value_ratios = {}\n",
        "    for val in unique_values:\n",
        "        p_val = sum(rater1_clean == val) / len(rater1_clean)\n",
        "        q_val = sum(rater2_clean == val) / len(rater2_clean)\n",
        "        value_ratios[val] = {'rater1': p_val, 'rater2': q_val}\n",
        "\n",
        "    # 우연에 의한 일치도 계산\n",
        "    chance_agreement = sum(\n",
        "        sum(rater1_clean == val) / len(rater1_clean) * sum(rater2_clean == val) / len(rater2_clean)\n",
        "        for val in unique_values\n",
        "    )\n",
        "\n",
        "    # 직접 kappa 계산\n",
        "    manual_kappa = (observed_agreement - chance_agreement) / (1 - chance_agreement)\n",
        "\n",
        "    return {\n",
        "        'kappa': kappa,\n",
        "        'observed_agreement': observed_agreement,\n",
        "        'unique_values': unique_values,\n",
        "        'value_ratios': value_ratios,\n",
        "        'chance_agreement': chance_agreement,\n",
        "        'manual_kappa': manual_kappa\n",
        "    }\n",
        "\n",
        "def analyze_agreement(path1, path2, output_prefix=\"\"):\n",
        "    \"\"\"\n",
        "    두 평가자의 CSV 파일을 분석하여 일치도를 계산하고 결과를 CSV로 저장합니다.\n",
        "\n",
        "    Args:\n",
        "        path1 (str): 첫 번째 평가자 CSV 파일 경로\n",
        "        path2 (str): 두 번째 평가자 CSV 파일 경로\n",
        "        output_prefix (str): 출력 파일 이름 접두사\n",
        "\n",
        "    Returns:\n",
        "        dict: 분석 결과 통계\n",
        "    \"\"\"\n",
        "    # CSV 파일 읽기\n",
        "    rater1_df = pd.read_csv(path1)\n",
        "    rater2_df = pd.read_csv(path2)\n",
        "\n",
        "    # 첫번째 평가자와 두번째 평가자의 평가 데이터 추출\n",
        "    rater1 = rater1_df.iloc[:, 1]\n",
        "    rater2 = rater2_df.iloc[:, 1]\n",
        "\n",
        "    # 결측값이 없는 유효한 데이터만 선택\n",
        "    valid_indices = ~(rater1.isna() | rater2.isna())\n",
        "    rater1_clean = rater1[valid_indices].astype(float)\n",
        "    rater2_clean = rater2[valid_indices].astype(float)\n",
        "\n",
        "    # 카파 통계 계산\n",
        "    stats = calculate_kappa_statistics(rater1_clean, rater2_clean)\n",
        "\n",
        "    # 새 데이터프레임 생성\n",
        "    full_df = pd.DataFrame()\n",
        "\n",
        "    # 첫 번째 열에 \"단어\" 추가 (원본 데이터에 있는 경우)\n",
        "    try:\n",
        "        full_df['단어'] = rater1_df.iloc[valid_indices, 0].reset_index(drop=True)\n",
        "    except:\n",
        "        pass  # 단어 열이 없는 경우 무시\n",
        "\n",
        "    full_df['rater1'] = rater1_clean.reset_index(drop=True)\n",
        "    full_df['rater2'] = rater2_clean.reset_index(drop=True)\n",
        "\n",
        "    # 분류 조건에 따라 데이터 나누기\n",
        "    both_1 = full_df[(full_df['rater1'] == 1) & (full_df['rater2'] == 1)].copy()\n",
        "    both_0 = full_df[(full_df['rater1'] == 0) & (full_df['rater2'] == 0)].copy()\n",
        "    disagreement = full_df[((full_df['rater1'] == 1) & (full_df['rater2'] == 0)) |\n",
        "                         ((full_df['rater1'] == 0) & (full_df['rater2'] == 1))].copy()\n",
        "\n",
        "    # 총 데이터 개수 열 추가\n",
        "    total_count = len(full_df)\n",
        "    both_1['총_개수'] = total_count\n",
        "    both_0['총_개수'] = total_count\n",
        "    disagreement['총_개수'] = total_count\n",
        "\n",
        "    # CSV 파일로 저장\n",
        "    both_1.to_csv(f'{output_prefix}both_1.csv', index=False)\n",
        "    both_0.to_csv(f'{output_prefix}both_0.csv', index=False)\n",
        "    disagreement.to_csv(f'{output_prefix}disagreement.csv', index=False)\n",
        "\n",
        "    # 통계 결과 반환\n",
        "    results = {\n",
        "        \"총_데이터_개수\": total_count,\n",
        "        \"둘_다_1인_행\": len(both_1),\n",
        "        \"둘_다_0인_행\": len(both_0),\n",
        "        \"불일치_행\": len(disagreement),\n",
        "        \"코헨_카파\": stats['kappa'],\n",
        "        \"관찰된_일치도\": stats['observed_agreement'],\n",
        "        \"우연에_의한_일치도\": stats['chance_agreement']\n",
        "    }\n",
        "\n",
        "    return results, stats\n",
        "\n",
        "\n",
        "path1 = \"/content/drive/MyDrive/fin/ABSA/사회_단어_jace.csv\"\n",
        "path2 = \"/content/drive/MyDrive/fin/ABSA/사회_단어_rodri.csv\"\n",
        "\n",
        "results, stats = analyze_agreement(path1, path2, output_prefix=\"사회_\")   # 경제_ 환경_ 행정_\n",
        "\n",
        "# 기본 결과 출력\n",
        "print(f\"총 데이터 개수: {results['총_데이터_개수']}\")\n",
        "print(f\"둘 다 1인 행: {results['둘_다_1인_행']}개\")\n",
        "print(f\"둘 다 0인 행: {results['둘_다_0인_행']}개\")\n",
        "print(f\"불일치 행: {results['불일치_행']}개\")\n",
        "\n",
        "# 카파 통계 결과 출력\n",
        "print(f\"\\nCohen's Kappa: {stats['kappa']:.4f}\")\n",
        "print(f\"관찰된 일치도: {stats['observed_agreement']:.4f}\")\n",
        "print(f\"우연에 의한 일치도: {stats['chance_agreement']:.4f}\")\n",
        "print(f\"직접 계산한 Kappa: {stats['manual_kappa']:.4f}\")\n",
        "\n",
        "# 고유 값 출력\n",
        "print(\"\\n고유 값:\", stats['unique_values'])\n",
        "\n",
        "# 각 값의 비율 출력\n",
        "for val, ratios in stats['value_ratios'].items():\n",
        "    print(f\"값 {val}: 평가자1 비율 {ratios['rater1']:.4f}, 평가자2 비율 {ratios['rater2']:.4f}\")"
      ],
      "metadata": {
        "id": "spmuT6vyezfG",
        "colab": {
          "base_uri": "https://localhost:8080/"
        },
        "outputId": "45e0d366-c718-4829-bbda-ccc943e92547"
      },
      "execution_count": 9,
      "outputs": [
        {
          "output_type": "stream",
          "name": "stdout",
          "text": [
            "총 데이터 개수: 2263\n",
            "둘 다 1인 행: 1898개\n",
            "둘 다 0인 행: 287개\n",
            "불일치 행: 78개\n",
            "\n",
            "Cohen's Kappa: 0.8603\n",
            "관찰된 일치도: 0.9655\n",
            "우연에 의한 일치도: 0.7533\n",
            "직접 계산한 Kappa: 0.8603\n",
            "\n",
            "고유 값: [0. 1.]\n",
            "값 0.0: 평가자1 비율 0.1379, 평가자2 비율 0.1502\n",
            "값 1.0: 평가자1 비율 0.8621, 평가자2 비율 0.8498\n"
          ]
        }
      ]
    }
  ]
}