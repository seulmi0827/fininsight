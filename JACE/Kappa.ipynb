{
  "nbformat": 4,
  "nbformat_minor": 0,
  "metadata": {
    "colab": {
      "provenance": [],
      "authorship_tag": "ABX9TyOfHQ92iDIquNMvXDWIXTOl",
      "include_colab_link": true
    },
    "kernelspec": {
      "name": "python3",
      "display_name": "Python 3"
    },
    "language_info": {
      "name": "python"
    }
  },
  "cells": [
    {
      "cell_type": "markdown",
      "metadata": {
        "id": "view-in-github",
        "colab_type": "text"
      },
      "source": [
        "<a href=\"https://colab.research.google.com/github/seulmi0827/fininsight/blob/main/JACE/Kappa.ipynb\" target=\"_parent\"><img src=\"https://colab.research.google.com/assets/colab-badge.svg\" alt=\"Open In Colab\"/></a>"
      ]
    },
    {
      "cell_type": "code",
      "source": [
        "from google.colab import drive\n",
        "drive.mount('/content/drive')"
      ],
      "metadata": {
        "id": "39MY8nHjhieF",
        "colab": {
          "base_uri": "https://localhost:8080/"
        },
        "outputId": "9d258262-422c-4999-a653-486326316a84"
      },
      "execution_count": 1,
      "outputs": [
        {
          "output_type": "stream",
          "name": "stdout",
          "text": [
            "Mounted at /content/drive\n"
          ]
        }
      ]
    },
    {
      "cell_type": "code",
      "execution_count": 2,
      "metadata": {
        "id": "-wQtL-IFee60"
      },
      "outputs": [],
      "source": [
        "from sklearn.metrics import cohen_kappa_score\n",
        "import pandas as pd\n",
        "import numpy as np"
      ]
    },
    {
      "cell_type": "code",
      "source": [
        "path1 = \"/content/drive/MyDrive/fin/사회_단어_jace.csv\"\n",
        "path2 = \"/content/drive/MyDrive/fin/사회_단어_rodri.csv\"\n",
        "rater1 = pd.read_csv(path1)\n",
        "rater2 = pd.read_csv(path2)\n",
        "rater1 = rater1.iloc[:, 1]\n",
        "rater2 = rater2.iloc[:, 1]"
      ],
      "metadata": {
        "id": "KiA7THGrhrvF"
      },
      "execution_count": 3,
      "outputs": []
    },
    {
      "cell_type": "code",
      "source": [
        "valid_indices = ~(rater1.isna() | rater2.isna())\n",
        "rater1_clean = rater1[valid_indices].astype(float)  # 둘 다 float로 변환, (하나는 소수점, 하나는 정수임)\n",
        "rater2_clean = rater2[valid_indices].astype(float)"
      ],
      "metadata": {
        "id": "dA33SWvHjokK"
      },
      "execution_count": 4,
      "outputs": []
    },
    {
      "cell_type": "code",
      "source": [
        "print(\"rater1 첫 5개 값:\", rater1_clean.head().tolist())\n",
        "print(\"rater2 첫 5개 값:\", rater2_clean.head().tolist())\n",
        "print(\"1번 유효 데이터 수:\", len(rater1_clean))\n",
        "print(\"2번 유효 데이터 수:\", len(rater2_clean))"
      ],
      "metadata": {
        "colab": {
          "base_uri": "https://localhost:8080/"
        },
        "id": "-SD7T0cOi7oR",
        "outputId": "219c71bb-f20c-48a6-9e1d-b83baf9e2aab"
      },
      "execution_count": 5,
      "outputs": [
        {
          "output_type": "stream",
          "name": "stdout",
          "text": [
            "rater1 첫 5개 값: [0.0, 0.0, 0.0, 0.0, 0.0]\n",
            "rater2 첫 5개 값: [0.0, 0.0, 0.0, 0.0, 0.0]\n",
            "1번 유효 데이터 수: 2263\n",
            "2번 유효 데이터 수: 2263\n"
          ]
        }
      ]
    },
    {
      "cell_type": "code",
      "source": [
        "# Cohen's kappa 계산\n",
        "kappa = cohen_kappa_score(rater1_clean, rater2_clean)\n",
        "print(f\"Cohen's Kappa: {kappa:.4f}\")\n",
        "\n",
        "# 관찰된 일치도 계산\n",
        "observed_agreement = sum(r1 == r2 for r1, r2 in zip(rater1_clean, rater2_clean)) / len(rater1_clean)\n",
        "print(f\"관찰된 일치도: {observed_agreement:.4f}\")\n",
        "\n",
        "# 고유 값 확인\n",
        "unique_values = np.unique(np.concatenate([rater1_clean.unique(), rater2_clean.unique()]))\n",
        "print(\"고유 값:\", unique_values)\n",
        "\n",
        "# 각 값의 비율 계산\n",
        "for val in unique_values:\n",
        "    p_val = sum(rater1_clean == val) / len(rater1_clean)\n",
        "    q_val = sum(rater2_clean == val) / len(rater2_clean)\n",
        "    print(f\"값 {val}: 평가자1 비율 {p_val:.4f}, 평가자2 비율 {q_val:.4f}\")\n",
        "\n",
        "# 우연에 의한 일치도 계산\n",
        "chance_agreement = sum(\n",
        "    sum(rater1_clean == val) / len(rater1_clean) * sum(rater2_clean == val) / len(rater2_clean)\n",
        "    for val in unique_values\n",
        ")\n",
        "print(f\"우연에 의한 일치도: {chance_agreement:.4f}\")\n",
        "\n",
        "# 직접 kappa 계산\n",
        "manual_kappa = (observed_agreement - chance_agreement) / (1 - chance_agreement)\n",
        "print(f\"직접 계산한 Kappa: {manual_kappa:.4f}\")"
      ],
      "metadata": {
        "colab": {
          "base_uri": "https://localhost:8080/"
        },
        "id": "wtK-MWbcephT",
        "outputId": "7630f27c-b1f6-4638-ef03-8d1437d83995"
      },
      "execution_count": 6,
      "outputs": [
        {
          "output_type": "stream",
          "name": "stdout",
          "text": [
            "Cohen's Kappa: 0.8603\n",
            "관찰된 일치도: 0.9655\n",
            "고유 값: [0. 1.]\n",
            "값 0.0: 평가자1 비율 0.1379, 평가자2 비율 0.1502\n",
            "값 1.0: 평가자1 비율 0.8621, 평가자2 비율 0.8498\n",
            "우연에 의한 일치도: 0.7533\n",
            "직접 계산한 Kappa: 0.8603\n"
          ]
        }
      ]
    },
    {
      "cell_type": "markdown",
      "source": [
        "출력값에 대한 설명입니다:\n",
        "\n",
        "Cohen's Kappa: 0.8603\n",
        "\n",
        "두 평가자 간의 일치도가 우연 요소를 제외하고 86.03%라는 의미입니다.\n",
        "0.81-1.00 범위에 있어 '거의 완벽한(almost perfect)' 일치도를 나타냅니다.\n",
        "\n",
        "\n",
        "관찰된 일치도: 0.9655\n",
        "\n",
        "두 평가자가 실제로 96.55%의 케이스에서 같은 판단을 내렸습니다.\n",
        "\n",
        "\n",
        "고유 값: [0. 1.]\n",
        "\n",
        "두 평가자가 사용한 값은 0과 1뿐입니다(이진분류).\n",
        "\n",
        "\n",
        "값 0.0: 평가자1 비율 0.1379, 평가자2 비율 0.1502\n",
        "\n",
        "평가자1은 전체 중 13.79%를 0으로 분류했습니다.\n",
        "평가자2는 전체 중 15.02%를 0으로 분류했습니다.\n",
        "\n",
        "\n",
        "값 1.0: 평가자1 비율 0.8621, 평가자2 비율 0.8498\n",
        "\n",
        "평가자1은 전체 중 86.21%를 1로 분류했습니다.\n",
        "평가자2는 전체 중 84.98%를 1로 분류했습니다.\n",
        "\n",
        "\n",
        "우연에 의한 일치도: 0.7533\n",
        "\n",
        "두 평가자가 무작위로 판단했을 때 우연히 일치할 확률이 75.33%입니다.\n",
        "계산: (0.1379×0.1502) + (0.8621×0.8498) = 0.7533\n",
        "\n",
        "\n",
        "직접 계산한 Kappa: 0.8603\n",
        "\n",
        "공식으로 직접 계산한 kappa 값으로 scikit-learn 결과와 일치합니다.\n",
        "계산: (0.9655-0.7533)/(1-0.7533) = 0.8603\n",
        "\n",
        "\n",
        "\n",
        "결론적으로, 두 평가자는 우연의 일치를 고려하더라도 매우 높은 수준의 일치도(0.8603)를 보여주고 있습니다."
      ],
      "metadata": {
        "id": "zJCx1RNKoVCm"
      }
    },
    {
      "cell_type": "code",
      "source": [],
      "metadata": {
        "id": "spmuT6vyezfG"
      },
      "execution_count": null,
      "outputs": []
    }
  ]
}