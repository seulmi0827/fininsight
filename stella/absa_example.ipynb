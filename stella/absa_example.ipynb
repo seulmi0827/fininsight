{
 "cells": [
  {
   "cell_type": "code",
   "execution_count": 29,
   "metadata": {},
   "outputs": [],
   "source": [
    "# 1. 기본 준비\n",
    "import pandas as pd\n",
    "from transformers import AutoTokenizer, AutoModelForSequenceClassification\n",
    "import torch\n",
    "\n",
    "# 2. 한국어 감성 분석 사전 학습 모델 불러오기\n",
    "model_name = \"alsgyu/sentiment-analysis-fine-tuned-model\"\n",
    "tokenizer = AutoTokenizer.from_pretrained(model_name)\n",
    "model = AutoModelForSequenceClassification.from_pretrained(model_name, num_labels=3)\n"
   ]
  },
  {
   "cell_type": "code",
   "execution_count": null,
   "metadata": {},
   "outputs": [],
   "source": [
    "# 1. 감정 분석 함수 (앞서 수정한 버전)\n",
    "index_to_label = {0: \"부정\", 1: \"중립\", 2: \"긍정\"}\n",
    "\n",
    "def predict_sentiment(text):\n",
    "    inputs = tokenizer(text, return_tensors=\"pt\", truncation=True, padding=True)\n",
    "    with torch.no_grad():\n",
    "        outputs = model(**inputs)\n",
    "    logits = outputs.logits\n",
    "    predicted_class = torch.argmax(logits, dim=1).item()\n",
    "    return index_to_label.get(predicted_class, \"알 수 없음\")\n"
   ]
  },
  {
   "cell_type": "markdown",
   "metadata": {},
   "source": [
    "## 한문장에 한 감정"
   ]
  },
  {
   "cell_type": "code",
   "execution_count": 26,
   "metadata": {},
   "outputs": [
    {
     "name": "stdout",
     "output_type": "stream",
     "text": [
      "[서비스] 감정: 긍정\n",
      "[음식] 감정: 부정\n"
     ]
    }
   ],
   "source": [
    "aspects_sentences = {\n",
    "    \"서비스\": \"이 식당은 서비스는 훌륭하다.\",\n",
    "    \"음식\": \"이 식당은 음식은 별로였다.\"\n",
    "}\n",
    "for aspect, text in aspects_sentences.items():\n",
    "    sentiment = predict_sentiment(text)\n",
    "    print(f\"[{aspect}] 감정: {sentiment}\")\n"
   ]
  },
  {
   "cell_type": "markdown",
   "metadata": {},
   "source": [
    "## 한 문장에 두 감정"
   ]
  },
  {
   "cell_type": "code",
   "execution_count": 27,
   "metadata": {},
   "outputs": [
    {
     "name": "stdout",
     "output_type": "stream",
     "text": [
      "[서비스] 감정: 중립\n",
      "[음식] 감정: 중립\n"
     ]
    }
   ],
   "source": [
    "aspects_sentences = {\n",
    "    \"서비스\": \"이 식당은 서비스는 훌륭하지만 음식은 별로였다.\",\n",
    "    \"음식\": \"이 식당은 서비스는 훌륭하지만 음식은 별로였다.\"\n",
    "}\n",
    "for aspect, text in aspects_sentences.items():\n",
    "    sentiment = predict_sentiment(text)\n",
    "    print(f\"[{aspect}] 감정: {sentiment}\")"
   ]
  },
  {
   "cell_type": "code",
   "execution_count": null,
   "metadata": {},
   "outputs": [
    {
     "name": "stdout",
     "output_type": "stream",
     "text": [
      "[서비스] 감정: 중립\n",
      "[음식] 감정: 중립\n"
     ]
    }
   ],
   "source": [
    "\n",
    "base_sentence = \"이 식당은 서비스는 좋았지만 음식은 별로였다.\"\n",
    "for aspect in [\"서비스\", \"음식\"]:\n",
    "    aspect_text = f\"{base_sentence} 이 중에서 '{aspect}'에 대해 말하자면,\"\n",
    "    sentiment = predict_sentiment(aspect_text)\n",
    "    print(f\"[{aspect}] 감정: {sentiment}\")\n",
    "\n",
    "\n"
   ]
  }
 ],
 "metadata": {
  "kernelspec": {
   "display_name": "langchain-kr-hGK6LnUe-py3.11",
   "language": "python",
   "name": "python3"
  },
  "language_info": {
   "codemirror_mode": {
    "name": "ipython",
    "version": 3
   },
   "file_extension": ".py",
   "mimetype": "text/x-python",
   "name": "python",
   "nbconvert_exporter": "python",
   "pygments_lexer": "ipython3",
   "version": "3.11.9"
  }
 },
 "nbformat": 4,
 "nbformat_minor": 2
}
